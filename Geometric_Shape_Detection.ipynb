{
 "cells": [
  {
   "cell_type": "raw",
   "metadata": {},
   "source": [
    "This project is all about detecting geometric shape and printing the shape name over the image, using Opencv library.\n",
    "We are considering different geometric shapes in single image\n",
    "\n",
    "The approach we would use to detect the shape of a given polygon will be based on classifying the detected shape on the basis of a number of sides it has. For example,if the detected polynomial has 3 sides, then it could be considered as a triangle, if the polynomial has 4 sides then it could be classified as a square or a rectangle, and so on."
   ]
  },
  {
   "cell_type": "markdown",
   "metadata": {},
   "source": [
    "### Import Libraries"
   ]
  },
  {
   "cell_type": "code",
   "execution_count": 12,
   "metadata": {
    "id": "BCBOzchgglFY"
   },
   "outputs": [],
   "source": [
    "import numpy as np\n",
    "import matplotlib.pyplot as plt\n",
    "%matplotlib inline\n",
    "import cv2 "
   ]
  },
  {
   "cell_type": "markdown",
   "metadata": {},
   "source": [
    "### Read Image"
   ]
  },
  {
   "cell_type": "code",
   "execution_count": 13,
   "metadata": {
    "colab": {
     "base_uri": "https://localhost:8080/",
     "height": 408
    },
    "executionInfo": {
     "elapsed": 29,
     "status": "error",
     "timestamp": 1681623447221,
     "user": {
      "displayName": "Smitesh Jadhav",
      "userId": "01577827486570810020"
     },
     "user_tz": -330
    },
    "id": "BKp6SRbVglFd",
    "outputId": "dc367393-87bb-49c9-9ff3-75729aa28840"
   },
   "outputs": [],
   "source": [
    "img = cv2.imread(r'C:\\Users\\Priyanka Sawant\\PGAML&DAClass\\dl\\Dummy\\shapes.jpeg')"
   ]
  },
  {
   "cell_type": "markdown",
   "metadata": {},
   "source": [
    "### Import image"
   ]
  },
  {
   "cell_type": "code",
   "execution_count": 14,
   "metadata": {
    "id": "CrNdCY3YglFe",
    "outputId": "3c708f8a-eaed-4a96-cf80-7dd36d7ced5d"
   },
   "outputs": [
    {
     "data": {
      "text/plain": [
       "13"
      ]
     },
     "execution_count": 14,
     "metadata": {},
     "output_type": "execute_result"
    }
   ],
   "source": [
    "cv2.imshow('1. original image', img)\n",
    "cv2.waitKey(0)\n",
    "\n",
    "#Convert the image to grayscale and show the image\n",
    "gray_img = cv2.cvtColor(img, cv2.COLOR_BGR2GRAY)\n",
    "cv2.imshow('2. gray image', gray_img)\n",
    "cv2.waitKey(0)\n",
    "\n",
    "#Detect edges from the gray image, and show them\n",
    "edges = cv2.Canny(gray_img, 50, 200)\n",
    "cv2.imshow('3. edges', edges)\n",
    "cv2.waitKey(0)"
   ]
  },
  {
   "cell_type": "markdown",
   "metadata": {},
   "source": [
    "### Applying thresholding on image and then finding contours."
   ]
  },
  {
   "cell_type": "code",
   "execution_count": 15,
   "metadata": {
    "id": "1EQyC5M5glFf"
   },
   "outputs": [
    {
     "name": "stdout",
     "output_type": "stream",
     "text": [
      "8\n",
      "4\n",
      "10\n",
      "3\n",
      "8\n",
      "4\n"
     ]
    }
   ],
   "source": [
    "#Detect contours from the image with edges\n",
    "contours, hierarchy = cv2.findContours(edges.copy(), cv2.RETR_EXTERNAL, cv2.CHAIN_APPROX_NONE)\n",
    "\n",
    "#traverse in contours\n",
    "for cnt in contours:\n",
    "    \n",
    "    #Calculate the number of lines in contours using cv2.approxPolyDP() and let’s detect shapes using cv2\n",
    "    approx = cv2.approxPolyDP(cnt, 0.03*cv2.arcLength(cnt, True), True)\n",
    "    print(len(approx))\n",
    "    # detect shapes using cv2\n",
    "    #If no. of lines equals 3, then it’s a triangle\n",
    "    if len(approx) == 3:\n",
    "        shape = 'Triangle'\n",
    "        M = cv2.moments(approx)\n",
    "        cx = int(M['m10']/M['m00'])\n",
    "        cy = int(M['m01']/M['m00'])\n",
    "    #If the no. of lines equals 4 then it’s either a rectangle or a square \n",
    "    elif len(approx) == 4:\n",
    "        x, y, w, h = cv2.boundingRect(cnt)\n",
    "        if abs(w-h) < 5:\n",
    "            shape = 'Square'\n",
    "            M = cv2.moments(approx)\n",
    "            cx = int(M['m10'] / M['m00'])\n",
    "            cy = int(M['m01'] / M['m00'])\n",
    "        else:\n",
    "            shape = 'Rectangle'\n",
    "            M = cv2.moments(approx)\n",
    "            cx = int(M['m10'] / M['m00'])\n",
    "            cy = int(M['m01'] / M['m00'])\n",
    "    #If no. of lines equals 10, it’s a star\n",
    "    elif len(approx) == 10:\n",
    "        shape = 'Star'\n",
    "        M = cv2.moments(approx)\n",
    "        cx = int(M['m10'] / M['m00'])\n",
    "        cy = int(M['m01'] / M['m00'])\n",
    "    # If no. of lines equals 8, it’s a circle\n",
    "    elif len(approx) == 8:\n",
    "        shape = 'Circle'\n",
    "        M = cv2.moments(approx)\n",
    "        cx = int(M['m10'] / M['m00'])\n",
    "        cy = int(M['m01'] / M['m00'])\n",
    "    #Put the text in the center of every detected contour. We calculated the center coordinates of every contour using moments\n",
    "    cv2.putText(img, shape, (cx-30, cy),cv2.FONT_HERSHEY_SIMPLEX, 0.7, (0, 255, 0), 1)\n",
    "    \n",
    "    #Draw the contours and show the image\n",
    "    cv2.drawContours(img, cnt, -1, (0, 255, 0), 2)\n",
    "    \n",
    "cv2.imshow('cnt', img)\n",
    "cv2.destroyAllWindows()"
   ]
  },
  {
   "cell_type": "markdown",
   "metadata": {},
   "source": [
    "### Show the image and close all windows"
   ]
  },
  {
   "cell_type": "code",
   "execution_count": 16,
   "metadata": {},
   "outputs": [],
   "source": [
    "#Show the output image and destroy all windows\n",
    "cv2.imshow('1. original image', img)\n",
    "cv2.waitKey(0)\n",
    "cv2.destroyAllWindows()"
   ]
  },
  {
   "cell_type": "raw",
   "metadata": {},
   "source": [
    "Conclusion: \n",
    "We can notice that in above output text is displayed on that particular shape."
   ]
  }
 ],
 "metadata": {
  "colab": {
   "provenance": []
  },
  "kernelspec": {
   "display_name": "Python 3",
   "language": "python",
   "name": "python3"
  },
  "language_info": {
   "codemirror_mode": {
    "name": "ipython",
    "version": 3
   },
   "file_extension": ".py",
   "mimetype": "text/x-python",
   "name": "python",
   "nbconvert_exporter": "python",
   "pygments_lexer": "ipython3",
   "version": "3.7.6"
  }
 },
 "nbformat": 4,
 "nbformat_minor": 1
}
